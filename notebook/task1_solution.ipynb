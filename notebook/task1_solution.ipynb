{
 "cells": [
  {
   "cell_type": "markdown",
   "id": "1d225940-f17a-4526-a58a-5b6c929decb7",
   "metadata": {},
   "source": [
    "# AI4Omics Practical Session"
   ]
  },
  {
   "cell_type": "markdown",
   "id": "052193a9-39a9-4c1d-bc63-c2287ec6d73d",
   "metadata": {},
   "source": [
    "## Task 1 -  Introduction to classification models in machine learning"
   ]
  },
  {
   "cell_type": "markdown",
   "id": "fad1e3bf-65b9-4886-bf01-02fd8fee1593",
   "metadata": {},
   "source": [
    "## 1. Import data"
   ]
  },
  {
   "cell_type": "markdown",
   "id": "e4a087cc-6fff-496f-8c78-5c1b3c53fd38",
   "metadata": {},
   "source": [
    "Import `pandas` package which allows us to perform data analysis and manipulation of dataframes in Python."
   ]
  },
  {
   "cell_type": "code",
   "execution_count": 1,
   "id": "d16c85de-2498-4275-b54a-a02d3ad774a0",
   "metadata": {},
   "outputs": [],
   "source": [
    "import pandas as pd"
   ]
  },
  {
   "cell_type": "markdown",
   "id": "12b3d927-271a-4c5c-8c92-6dad611a88c3",
   "metadata": {},
   "source": [
    "The data are available in the file `colon_cancer.csv`. Data import is done with the pandas `read_csv` command. The `shape` attribute contains the dimensions of the dataframe."
   ]
  },
  {
   "cell_type": "code",
   "execution_count": 2,
   "id": "80400c2f-9523-4a31-a2cf-07ebbb62f95b",
   "metadata": {},
   "outputs": [
    {
     "name": "stdout",
     "output_type": "stream",
     "text": [
      "data (804, 61)\n"
     ]
    }
   ],
   "source": [
    "data = pd.read_csv('../data/colon_cancer.csv', sep=';', index_col='id_sample')\n",
    "print('data', data.shape)"
   ]
  },
  {
   "cell_type": "markdown",
   "id": "e8811c68-8ff8-418a-89fb-5bdc2426a10c",
   "metadata": {},
   "source": [
    "The `head()` method displays by default the first 5 lines of the dataframe. If necessary, we can indicate the number of lines to display, for example `head(3)` for 3 lines."
   ]
  },
  {
   "cell_type": "code",
   "execution_count": 3,
   "id": "ecb2184a-8067-472a-ba8a-7f4e62a8b207",
   "metadata": {},
   "outputs": [
    {
     "data": {
      "text/html": [
       "<div>\n",
       "<style scoped>\n",
       "    .dataframe tbody tr th:only-of-type {\n",
       "        vertical-align: middle;\n",
       "    }\n",
       "\n",
       "    .dataframe tbody tr th {\n",
       "        vertical-align: top;\n",
       "    }\n",
       "\n",
       "    .dataframe thead th {\n",
       "        text-align: right;\n",
       "    }\n",
       "</style>\n",
       "<table border=\"1\" class=\"dataframe\">\n",
       "  <thead>\n",
       "    <tr style=\"text-align: right;\">\n",
       "      <th></th>\n",
       "      <th>ADH1C</th>\n",
       "      <th>DHRS11</th>\n",
       "      <th>UGP2</th>\n",
       "      <th>SLC7A5</th>\n",
       "      <th>CTSS</th>\n",
       "      <th>DAO</th>\n",
       "      <th>NIBAN1</th>\n",
       "      <th>PRUNE2</th>\n",
       "      <th>FOXF2</th>\n",
       "      <th>TENT5C</th>\n",
       "      <th>...</th>\n",
       "      <th>BSPRY</th>\n",
       "      <th>CDHR2</th>\n",
       "      <th>ERRFI1</th>\n",
       "      <th>CLIC5</th>\n",
       "      <th>PLLP</th>\n",
       "      <th>GAL</th>\n",
       "      <th>CRYL1</th>\n",
       "      <th>YBX2</th>\n",
       "      <th>ANGPTL4</th>\n",
       "      <th>tissue_status</th>\n",
       "    </tr>\n",
       "    <tr>\n",
       "      <th>id_sample</th>\n",
       "      <th></th>\n",
       "      <th></th>\n",
       "      <th></th>\n",
       "      <th></th>\n",
       "      <th></th>\n",
       "      <th></th>\n",
       "      <th></th>\n",
       "      <th></th>\n",
       "      <th></th>\n",
       "      <th></th>\n",
       "      <th></th>\n",
       "      <th></th>\n",
       "      <th></th>\n",
       "      <th></th>\n",
       "      <th></th>\n",
       "      <th></th>\n",
       "      <th></th>\n",
       "      <th></th>\n",
       "      <th></th>\n",
       "      <th></th>\n",
       "      <th></th>\n",
       "    </tr>\n",
       "  </thead>\n",
       "  <tbody>\n",
       "    <tr>\n",
       "      <th>EPSM-COLON-0001</th>\n",
       "      <td>9.199944</td>\n",
       "      <td>6.090054</td>\n",
       "      <td>7.062512</td>\n",
       "      <td>3.864253</td>\n",
       "      <td>7.869368</td>\n",
       "      <td>8.465133</td>\n",
       "      <td>1.174665</td>\n",
       "      <td>0.975086</td>\n",
       "      <td>3.028995</td>\n",
       "      <td>6.350919</td>\n",
       "      <td>...</td>\n",
       "      <td>5.528372</td>\n",
       "      <td>3.500730</td>\n",
       "      <td>2.893760</td>\n",
       "      <td>5.130743</td>\n",
       "      <td>1.485110</td>\n",
       "      <td>1.830484</td>\n",
       "      <td>6.379933</td>\n",
       "      <td>3.919293</td>\n",
       "      <td>3.031413</td>\n",
       "      <td>normal</td>\n",
       "    </tr>\n",
       "    <tr>\n",
       "      <th>EPSM-COLON-0002</th>\n",
       "      <td>7.767618</td>\n",
       "      <td>6.027985</td>\n",
       "      <td>6.318818</td>\n",
       "      <td>3.069581</td>\n",
       "      <td>6.410334</td>\n",
       "      <td>8.159814</td>\n",
       "      <td>5.959414</td>\n",
       "      <td>1.625518</td>\n",
       "      <td>2.984629</td>\n",
       "      <td>4.686086</td>\n",
       "      <td>...</td>\n",
       "      <td>5.671788</td>\n",
       "      <td>4.658790</td>\n",
       "      <td>4.715374</td>\n",
       "      <td>5.438104</td>\n",
       "      <td>2.131466</td>\n",
       "      <td>2.097157</td>\n",
       "      <td>6.863173</td>\n",
       "      <td>0.322829</td>\n",
       "      <td>3.978531</td>\n",
       "      <td>normal</td>\n",
       "    </tr>\n",
       "    <tr>\n",
       "      <th>EPSM-COLON-0003</th>\n",
       "      <td>7.918904</td>\n",
       "      <td>5.885948</td>\n",
       "      <td>6.917742</td>\n",
       "      <td>3.188257</td>\n",
       "      <td>7.915549</td>\n",
       "      <td>8.004194</td>\n",
       "      <td>1.560386</td>\n",
       "      <td>2.379909</td>\n",
       "      <td>2.929762</td>\n",
       "      <td>4.281126</td>\n",
       "      <td>...</td>\n",
       "      <td>4.596079</td>\n",
       "      <td>5.649376</td>\n",
       "      <td>4.047899</td>\n",
       "      <td>6.580938</td>\n",
       "      <td>1.447209</td>\n",
       "      <td>3.890943</td>\n",
       "      <td>6.209704</td>\n",
       "      <td>3.274407</td>\n",
       "      <td>3.714491</td>\n",
       "      <td>normal</td>\n",
       "    </tr>\n",
       "    <tr>\n",
       "      <th>EPSM-COLON-0004</th>\n",
       "      <td>9.053553</td>\n",
       "      <td>6.027985</td>\n",
       "      <td>7.081085</td>\n",
       "      <td>2.357523</td>\n",
       "      <td>5.657726</td>\n",
       "      <td>8.004194</td>\n",
       "      <td>3.548988</td>\n",
       "      <td>3.260031</td>\n",
       "      <td>3.313829</td>\n",
       "      <td>4.821072</td>\n",
       "      <td>...</td>\n",
       "      <td>4.135061</td>\n",
       "      <td>5.437107</td>\n",
       "      <td>4.537381</td>\n",
       "      <td>4.615263</td>\n",
       "      <td>1.004454</td>\n",
       "      <td>1.840902</td>\n",
       "      <td>6.774063</td>\n",
       "      <td>3.320525</td>\n",
       "      <td>3.080796</td>\n",
       "      <td>normal</td>\n",
       "    </tr>\n",
       "    <tr>\n",
       "      <th>EPSM-COLON-0005</th>\n",
       "      <td>6.027822</td>\n",
       "      <td>5.791257</td>\n",
       "      <td>5.937685</td>\n",
       "      <td>4.137667</td>\n",
       "      <td>5.818999</td>\n",
       "      <td>8.056067</td>\n",
       "      <td>3.307945</td>\n",
       "      <td>5.208874</td>\n",
       "      <td>4.191695</td>\n",
       "      <td>5.181036</td>\n",
       "      <td>...</td>\n",
       "      <td>3.674043</td>\n",
       "      <td>6.286182</td>\n",
       "      <td>4.715374</td>\n",
       "      <td>4.432410</td>\n",
       "      <td>0.159195</td>\n",
       "      <td>3.506561</td>\n",
       "      <td>6.150297</td>\n",
       "      <td>0.461184</td>\n",
       "      <td>5.140305</td>\n",
       "      <td>normal</td>\n",
       "    </tr>\n",
       "  </tbody>\n",
       "</table>\n",
       "<p>5 rows × 61 columns</p>\n",
       "</div>"
      ],
      "text/plain": [
       "                    ADH1C    DHRS11      UGP2    SLC7A5      CTSS       DAO  \\\n",
       "id_sample                                                                     \n",
       "EPSM-COLON-0001  9.199944  6.090054  7.062512  3.864253  7.869368  8.465133   \n",
       "EPSM-COLON-0002  7.767618  6.027985  6.318818  3.069581  6.410334  8.159814   \n",
       "EPSM-COLON-0003  7.918904  5.885948  6.917742  3.188257  7.915549  8.004194   \n",
       "EPSM-COLON-0004  9.053553  6.027985  7.081085  2.357523  5.657726  8.004194   \n",
       "EPSM-COLON-0005  6.027822  5.791257  5.937685  4.137667  5.818999  8.056067   \n",
       "\n",
       "                   NIBAN1    PRUNE2     FOXF2    TENT5C  ...     BSPRY  \\\n",
       "id_sample                                                ...             \n",
       "EPSM-COLON-0001  1.174665  0.975086  3.028995  6.350919  ...  5.528372   \n",
       "EPSM-COLON-0002  5.959414  1.625518  2.984629  4.686086  ...  5.671788   \n",
       "EPSM-COLON-0003  1.560386  2.379909  2.929762  4.281126  ...  4.596079   \n",
       "EPSM-COLON-0004  3.548988  3.260031  3.313829  4.821072  ...  4.135061   \n",
       "EPSM-COLON-0005  3.307945  5.208874  4.191695  5.181036  ...  3.674043   \n",
       "\n",
       "                    CDHR2    ERRFI1     CLIC5      PLLP       GAL     CRYL1  \\\n",
       "id_sample                                                                     \n",
       "EPSM-COLON-0001  3.500730  2.893760  5.130743  1.485110  1.830484  6.379933   \n",
       "EPSM-COLON-0002  4.658790  4.715374  5.438104  2.131466  2.097157  6.863173   \n",
       "EPSM-COLON-0003  5.649376  4.047899  6.580938  1.447209  3.890943  6.209704   \n",
       "EPSM-COLON-0004  5.437107  4.537381  4.615263  1.004454  1.840902  6.774063   \n",
       "EPSM-COLON-0005  6.286182  4.715374  4.432410  0.159195  3.506561  6.150297   \n",
       "\n",
       "                     YBX2   ANGPTL4  tissue_status  \n",
       "id_sample                                           \n",
       "EPSM-COLON-0001  3.919293  3.031413         normal  \n",
       "EPSM-COLON-0002  0.322829  3.978531         normal  \n",
       "EPSM-COLON-0003  3.274407  3.714491         normal  \n",
       "EPSM-COLON-0004  3.320525  3.080796         normal  \n",
       "EPSM-COLON-0005  0.461184  5.140305         normal  \n",
       "\n",
       "[5 rows x 61 columns]"
      ]
     },
     "execution_count": 3,
     "metadata": {},
     "output_type": "execute_result"
    }
   ],
   "source": [
    "data.head()"
   ]
  },
  {
   "cell_type": "markdown",
   "id": "7f8856b1-1f4f-4e80-badd-8ca22b522bad",
   "metadata": {},
   "source": [
    "The data contain the expression levels of **60 genes** in **804 samples** of colon tissue. The last column `tissue_status` indicates if the sample is normal or tumoral."
   ]
  },
  {
   "cell_type": "markdown",
   "id": "898b7a75-817c-41c8-92c1-07e8aa3f24dd",
   "metadata": {},
   "source": [
    "The data types of each column can be displayed with `dtypes`."
   ]
  },
  {
   "cell_type": "code",
   "execution_count": 4,
   "id": "3f6acc28-3ac9-4949-8b5f-bf5f691c5258",
   "metadata": {},
   "outputs": [
    {
     "data": {
      "text/plain": [
       "ADH1C            float64\n",
       "DHRS11           float64\n",
       "UGP2             float64\n",
       "SLC7A5           float64\n",
       "CTSS             float64\n",
       "                  ...   \n",
       "GAL              float64\n",
       "CRYL1            float64\n",
       "YBX2             float64\n",
       "ANGPTL4          float64\n",
       "tissue_status     object\n",
       "Length: 61, dtype: object"
      ]
     },
     "execution_count": 4,
     "metadata": {},
     "output_type": "execute_result"
    }
   ],
   "source": [
    "data.dtypes"
   ]
  },
  {
   "cell_type": "markdown",
   "id": "fecd87e8-851e-4eda-8dae-e74895dd88e8",
   "metadata": {},
   "source": [
    "We can see that the data are mostly *float values* except for `tissue_status` which is actually a *string*, considered as an *object* by pandas."
   ]
  },
  {
   "cell_type": "markdown",
   "id": "2bec1d46-0726-4af5-b8bb-b891efaf57a2",
   "metadata": {},
   "source": [
    "The `describe` method displays descriptive statistics of numerical data only. The `tissue_status` column will not be included."
   ]
  },
  {
   "cell_type": "code",
   "execution_count": 5,
   "id": "8152e999-26c7-4cb5-aa6b-5b039bdf5740",
   "metadata": {},
   "outputs": [
    {
     "data": {
      "text/html": [
       "<div>\n",
       "<style scoped>\n",
       "    .dataframe tbody tr th:only-of-type {\n",
       "        vertical-align: middle;\n",
       "    }\n",
       "\n",
       "    .dataframe tbody tr th {\n",
       "        vertical-align: top;\n",
       "    }\n",
       "\n",
       "    .dataframe thead th {\n",
       "        text-align: right;\n",
       "    }\n",
       "</style>\n",
       "<table border=\"1\" class=\"dataframe\">\n",
       "  <thead>\n",
       "    <tr style=\"text-align: right;\">\n",
       "      <th></th>\n",
       "      <th>ADH1C</th>\n",
       "      <th>DHRS11</th>\n",
       "      <th>UGP2</th>\n",
       "      <th>SLC7A5</th>\n",
       "      <th>CTSS</th>\n",
       "      <th>DAO</th>\n",
       "      <th>NIBAN1</th>\n",
       "      <th>PRUNE2</th>\n",
       "      <th>FOXF2</th>\n",
       "      <th>TENT5C</th>\n",
       "      <th>...</th>\n",
       "      <th>SYTL2</th>\n",
       "      <th>BSPRY</th>\n",
       "      <th>CDHR2</th>\n",
       "      <th>ERRFI1</th>\n",
       "      <th>CLIC5</th>\n",
       "      <th>PLLP</th>\n",
       "      <th>GAL</th>\n",
       "      <th>CRYL1</th>\n",
       "      <th>YBX2</th>\n",
       "      <th>ANGPTL4</th>\n",
       "    </tr>\n",
       "  </thead>\n",
       "  <tbody>\n",
       "    <tr>\n",
       "      <th>count</th>\n",
       "      <td>804.000000</td>\n",
       "      <td>804.000000</td>\n",
       "      <td>804.000000</td>\n",
       "      <td>804.000000</td>\n",
       "      <td>804.000000</td>\n",
       "      <td>804.000000</td>\n",
       "      <td>804.000000</td>\n",
       "      <td>804.000000</td>\n",
       "      <td>804.000000</td>\n",
       "      <td>804.000000</td>\n",
       "      <td>...</td>\n",
       "      <td>804.000000</td>\n",
       "      <td>804.000000</td>\n",
       "      <td>804.000000</td>\n",
       "      <td>804.000000</td>\n",
       "      <td>804.000000</td>\n",
       "      <td>804.000000</td>\n",
       "      <td>804.000000</td>\n",
       "      <td>804.000000</td>\n",
       "      <td>804.000000</td>\n",
       "      <td>804.000000</td>\n",
       "    </tr>\n",
       "    <tr>\n",
       "      <th>mean</th>\n",
       "      <td>5.588943</td>\n",
       "      <td>4.354817</td>\n",
       "      <td>5.557694</td>\n",
       "      <td>4.513570</td>\n",
       "      <td>6.717535</td>\n",
       "      <td>7.218184</td>\n",
       "      <td>2.737937</td>\n",
       "      <td>2.806573</td>\n",
       "      <td>3.064394</td>\n",
       "      <td>3.658318</td>\n",
       "      <td>...</td>\n",
       "      <td>3.599294</td>\n",
       "      <td>4.682718</td>\n",
       "      <td>4.225014</td>\n",
       "      <td>4.575397</td>\n",
       "      <td>4.097244</td>\n",
       "      <td>1.823268</td>\n",
       "      <td>2.822931</td>\n",
       "      <td>6.096634</td>\n",
       "      <td>2.801603</td>\n",
       "      <td>2.596452</td>\n",
       "    </tr>\n",
       "    <tr>\n",
       "      <th>std</th>\n",
       "      <td>2.889901</td>\n",
       "      <td>1.431179</td>\n",
       "      <td>1.150565</td>\n",
       "      <td>1.614450</td>\n",
       "      <td>1.077821</td>\n",
       "      <td>1.411969</td>\n",
       "      <td>1.466906</td>\n",
       "      <td>1.243826</td>\n",
       "      <td>1.191486</td>\n",
       "      <td>1.258059</td>\n",
       "      <td>...</td>\n",
       "      <td>1.054504</td>\n",
       "      <td>0.917027</td>\n",
       "      <td>1.656088</td>\n",
       "      <td>0.859138</td>\n",
       "      <td>1.276589</td>\n",
       "      <td>0.721587</td>\n",
       "      <td>1.338349</td>\n",
       "      <td>0.840122</td>\n",
       "      <td>1.011971</td>\n",
       "      <td>1.000962</td>\n",
       "    </tr>\n",
       "    <tr>\n",
       "      <th>min</th>\n",
       "      <td>0.610504</td>\n",
       "      <td>1.427079</td>\n",
       "      <td>2.027201</td>\n",
       "      <td>1.685024</td>\n",
       "      <td>3.668691</td>\n",
       "      <td>1.164886</td>\n",
       "      <td>0.716737</td>\n",
       "      <td>0.368200</td>\n",
       "      <td>0.610504</td>\n",
       "      <td>0.858074</td>\n",
       "      <td>...</td>\n",
       "      <td>1.286220</td>\n",
       "      <td>1.868389</td>\n",
       "      <td>0.637047</td>\n",
       "      <td>2.250347</td>\n",
       "      <td>1.015235</td>\n",
       "      <td>0.118945</td>\n",
       "      <td>0.610504</td>\n",
       "      <td>2.031471</td>\n",
       "      <td>0.000000</td>\n",
       "      <td>0.757246</td>\n",
       "    </tr>\n",
       "    <tr>\n",
       "      <th>25%</th>\n",
       "      <td>3.174250</td>\n",
       "      <td>3.118844</td>\n",
       "      <td>4.611060</td>\n",
       "      <td>3.030022</td>\n",
       "      <td>6.065937</td>\n",
       "      <td>6.241714</td>\n",
       "      <td>1.550382</td>\n",
       "      <td>1.864561</td>\n",
       "      <td>2.198244</td>\n",
       "      <td>2.655091</td>\n",
       "      <td>...</td>\n",
       "      <td>2.878356</td>\n",
       "      <td>4.349295</td>\n",
       "      <td>2.921069</td>\n",
       "      <td>3.958903</td>\n",
       "      <td>3.131267</td>\n",
       "      <td>1.337715</td>\n",
       "      <td>1.840902</td>\n",
       "      <td>5.489589</td>\n",
       "      <td>2.277491</td>\n",
       "      <td>1.824823</td>\n",
       "    </tr>\n",
       "    <tr>\n",
       "      <th>50%</th>\n",
       "      <td>5.467024</td>\n",
       "      <td>4.125990</td>\n",
       "      <td>5.412204</td>\n",
       "      <td>4.382953</td>\n",
       "      <td>6.762908</td>\n",
       "      <td>7.578782</td>\n",
       "      <td>2.297732</td>\n",
       "      <td>2.741509</td>\n",
       "      <td>2.900393</td>\n",
       "      <td>3.605686</td>\n",
       "      <td>...</td>\n",
       "      <td>3.613342</td>\n",
       "      <td>4.869313</td>\n",
       "      <td>4.116251</td>\n",
       "      <td>4.537381</td>\n",
       "      <td>3.975276</td>\n",
       "      <td>1.689671</td>\n",
       "      <td>2.591044</td>\n",
       "      <td>6.150297</td>\n",
       "      <td>2.905605</td>\n",
       "      <td>2.442378</td>\n",
       "    </tr>\n",
       "    <tr>\n",
       "      <th>75%</th>\n",
       "      <td>8.444756</td>\n",
       "      <td>5.696566</td>\n",
       "      <td>6.556969</td>\n",
       "      <td>5.918848</td>\n",
       "      <td>7.485487</td>\n",
       "      <td>8.263561</td>\n",
       "      <td>3.669509</td>\n",
       "      <td>3.574304</td>\n",
       "      <td>3.752899</td>\n",
       "      <td>4.686086</td>\n",
       "      <td>...</td>\n",
       "      <td>4.417632</td>\n",
       "      <td>5.249372</td>\n",
       "      <td>5.507864</td>\n",
       "      <td>5.070072</td>\n",
       "      <td>5.118110</td>\n",
       "      <td>2.211967</td>\n",
       "      <td>3.661012</td>\n",
       "      <td>6.728052</td>\n",
       "      <td>3.505721</td>\n",
       "      <td>3.139738</td>\n",
       "    </tr>\n",
       "    <tr>\n",
       "      <th>max</th>\n",
       "      <td>10.263846</td>\n",
       "      <td>7.022241</td>\n",
       "      <td>7.571114</td>\n",
       "      <td>8.059430</td>\n",
       "      <td>8.990703</td>\n",
       "      <td>10.079135</td>\n",
       "      <td>6.682541</td>\n",
       "      <td>6.591924</td>\n",
       "      <td>6.276628</td>\n",
       "      <td>6.350919</td>\n",
       "      <td>...</td>\n",
       "      <td>5.713776</td>\n",
       "      <td>7.029946</td>\n",
       "      <td>9.045672</td>\n",
       "      <td>7.647284</td>\n",
       "      <td>7.129499</td>\n",
       "      <td>4.763212</td>\n",
       "      <td>7.545757</td>\n",
       "      <td>8.723941</td>\n",
       "      <td>5.169059</td>\n",
       "      <td>6.493643</td>\n",
       "    </tr>\n",
       "  </tbody>\n",
       "</table>\n",
       "<p>8 rows × 60 columns</p>\n",
       "</div>"
      ],
      "text/plain": [
       "            ADH1C      DHRS11        UGP2      SLC7A5        CTSS         DAO  \\\n",
       "count  804.000000  804.000000  804.000000  804.000000  804.000000  804.000000   \n",
       "mean     5.588943    4.354817    5.557694    4.513570    6.717535    7.218184   \n",
       "std      2.889901    1.431179    1.150565    1.614450    1.077821    1.411969   \n",
       "min      0.610504    1.427079    2.027201    1.685024    3.668691    1.164886   \n",
       "25%      3.174250    3.118844    4.611060    3.030022    6.065937    6.241714   \n",
       "50%      5.467024    4.125990    5.412204    4.382953    6.762908    7.578782   \n",
       "75%      8.444756    5.696566    6.556969    5.918848    7.485487    8.263561   \n",
       "max     10.263846    7.022241    7.571114    8.059430    8.990703   10.079135   \n",
       "\n",
       "           NIBAN1      PRUNE2       FOXF2      TENT5C  ...       SYTL2  \\\n",
       "count  804.000000  804.000000  804.000000  804.000000  ...  804.000000   \n",
       "mean     2.737937    2.806573    3.064394    3.658318  ...    3.599294   \n",
       "std      1.466906    1.243826    1.191486    1.258059  ...    1.054504   \n",
       "min      0.716737    0.368200    0.610504    0.858074  ...    1.286220   \n",
       "25%      1.550382    1.864561    2.198244    2.655091  ...    2.878356   \n",
       "50%      2.297732    2.741509    2.900393    3.605686  ...    3.613342   \n",
       "75%      3.669509    3.574304    3.752899    4.686086  ...    4.417632   \n",
       "max      6.682541    6.591924    6.276628    6.350919  ...    5.713776   \n",
       "\n",
       "            BSPRY       CDHR2      ERRFI1       CLIC5        PLLP         GAL  \\\n",
       "count  804.000000  804.000000  804.000000  804.000000  804.000000  804.000000   \n",
       "mean     4.682718    4.225014    4.575397    4.097244    1.823268    2.822931   \n",
       "std      0.917027    1.656088    0.859138    1.276589    0.721587    1.338349   \n",
       "min      1.868389    0.637047    2.250347    1.015235    0.118945    0.610504   \n",
       "25%      4.349295    2.921069    3.958903    3.131267    1.337715    1.840902   \n",
       "50%      4.869313    4.116251    4.537381    3.975276    1.689671    2.591044   \n",
       "75%      5.249372    5.507864    5.070072    5.118110    2.211967    3.661012   \n",
       "max      7.029946    9.045672    7.647284    7.129499    4.763212    7.545757   \n",
       "\n",
       "            CRYL1        YBX2     ANGPTL4  \n",
       "count  804.000000  804.000000  804.000000  \n",
       "mean     6.096634    2.801603    2.596452  \n",
       "std      0.840122    1.011971    1.000962  \n",
       "min      2.031471    0.000000    0.757246  \n",
       "25%      5.489589    2.277491    1.824823  \n",
       "50%      6.150297    2.905605    2.442378  \n",
       "75%      6.728052    3.505721    3.139738  \n",
       "max      8.723941    5.169059    6.493643  \n",
       "\n",
       "[8 rows x 60 columns]"
      ]
     },
     "execution_count": 5,
     "metadata": {},
     "output_type": "execute_result"
    }
   ],
   "source": [
    "data.describe()"
   ]
  },
  {
   "cell_type": "markdown",
   "id": "3889c0ab-7dc5-4b99-bc9c-4250e56ec84f",
   "metadata": {},
   "source": [
    "## 2. Display distributions of expression levels"
   ]
  },
  {
   "cell_type": "markdown",
   "id": "6e827fc5-a947-4c8f-9e6a-0c66b54d1ee2",
   "metadata": {},
   "source": [
    "To create graphical plots we will use the graphical packages of Python `matplotlib` and `seaborn`."
   ]
  },
  {
   "cell_type": "code",
   "execution_count": 6,
   "id": "a7a56871-bc14-4135-8484-4d749def1685",
   "metadata": {},
   "outputs": [],
   "source": [
    "%matplotlib inline\n",
    "import seaborn as sns\n",
    "import matplotlib.pyplot as plt"
   ]
  },
  {
   "cell_type": "markdown",
   "id": "99c80b70-0159-4a01-9a9d-10180d1fed11",
   "metadata": {},
   "source": [
    "The `displot` command of the `seaborn` package enables us to display a distribution of values (as a kernel density estimator *kde* or as a histogram *hist*). Let's select one gene, for example *DAO*, and plot the distribution of expression levels of this gene across all samples. "
   ]
  },
  {
   "cell_type": "code",
   "execution_count": 7,
   "id": "c05c2997-b2d1-4194-bd3c-aaa1916dc70a",
   "metadata": {},
   "outputs": [
    {
     "data": {
      "text/plain": [
       "<seaborn.axisgrid.FacetGrid at 0x2ac1b405850>"
      ]
     },
     "execution_count": 7,
     "metadata": {},
     "output_type": "execute_result"
    },
    {
     "data": {
      "image/png": "[encoded data removed]",
      "text/plain": [
       "<Figure size 435x360 with 1 Axes>"
      ]
     },
     "metadata": {
      "needs_background": "light"
     },
     "output_type": "display_data"
    }
   ],
   "source": [
    "selected_gene = 'DAO'\n",
    "selected_columns = [selected_gene, 'tissue_status'] # select only columns 'DAO' and 'tissue_status' from the whole dataframe\n",
    "sns.displot(data=data[selected_columns], x=selected_gene, hue='tissue_status', kind='kde')"
   ]
  },
  {
   "cell_type": "markdown",
   "id": "0e25171b-948d-427d-95fa-8f8a08a365c8",
   "metadata": {},
   "source": [
    "The gene *DAO* is highly expressed in normal samples while its expression in tumour samples is much lower."
   ]
  },
  {
   "cell_type": "markdown",
   "id": "39cf8435-e9d2-45c8-b8fb-9e8e488850f8",
   "metadata": {},
   "source": [
    "We can intuitively feel that if we introduce a certain threshold for *DAO* expression, for example 7.5, we will be able to predict for any new sample if it is normal or tumoral. For this, we just need to measure the level of *DAO* expression in the new sample. If it is below 7.5 than the sample is tumoral, otherwise it is normal.   "
   ]
  },
  {
   "cell_type": "markdown",
   "id": "f8043921-7ddd-4278-9df0-2089727668b3",
   "metadata": {},
   "source": [
    "## 3. Create features and targets for machine learning "
   ]
  },
  {
   "cell_type": "markdown",
   "id": "b3edbea5-8a8c-462e-acb0-42aaffe5ed8c",
   "metadata": {},
   "source": [
    "For machine learning purposes in Python, we usually prepare data in two separate objects:\n",
    "- The first object is a matrix (or a dataframe) of *data*, typically named  **X**, which contains the measurements for all available variables (features). In our case, the features are the 60 genes. The dataframe **X** contains the expression levels of these genes (features).\n",
    "- The second object is a list of *targets* that we aim to predict, named **y**. In our example, it corresponds to the column `tissue_status` containing the types of each sample, normal tissue or cancer."
   ]
  },
  {
   "cell_type": "markdown",
   "id": "fa5c26b9-5511-482c-acdb-0b81dd8f59b4",
   "metadata": {},
   "source": [
    "Let's consider a simple case when we have only one gene *DAO*. What would be the data **X** and the targets **y**?  "
   ]
  },
  {
   "cell_type": "markdown",
   "id": "2f94ea85-dc4c-4f5e-ac30-699920af5d20",
   "metadata": {},
   "source": [
    "In this case, we have only one feature, the gene *DAO*. The dataframe **X** will therefore contain the expression levels of this gene in all the samples."
   ]
  },
  {
   "cell_type": "code",
   "execution_count": 8,
   "id": "75427980-6e43-44bc-b9fd-04e364f954ba",
   "metadata": {},
   "outputs": [
    {
     "data": {
      "text/html": [
       "<div>\n",
       "<style scoped>\n",
       "    .dataframe tbody tr th:only-of-type {\n",
       "        vertical-align: middle;\n",
       "    }\n",
       "\n",
       "    .dataframe tbody tr th {\n",
       "        vertical-align: top;\n",
       "    }\n",
       "\n",
       "    .dataframe thead th {\n",
       "        text-align: right;\n",
       "    }\n",
       "</style>\n",
       "<table border=\"1\" class=\"dataframe\">\n",
       "  <thead>\n",
       "    <tr style=\"text-align: right;\">\n",
       "      <th></th>\n",
       "      <th>DAO</th>\n",
       "    </tr>\n",
       "    <tr>\n",
       "      <th>id_sample</th>\n",
       "      <th></th>\n",
       "    </tr>\n",
       "  </thead>\n",
       "  <tbody>\n",
       "    <tr>\n",
       "      <th>EPSM-COLON-0001</th>\n",
       "      <td>8.465133</td>\n",
       "    </tr>\n",
       "    <tr>\n",
       "      <th>EPSM-COLON-0002</th>\n",
       "      <td>8.159814</td>\n",
       "    </tr>\n",
       "    <tr>\n",
       "      <th>EPSM-COLON-0003</th>\n",
       "      <td>8.004194</td>\n",
       "    </tr>\n",
       "  </tbody>\n",
       "</table>\n",
       "</div>"
      ],
      "text/plain": [
       "                      DAO\n",
       "id_sample                \n",
       "EPSM-COLON-0001  8.465133\n",
       "EPSM-COLON-0002  8.159814\n",
       "EPSM-COLON-0003  8.004194"
      ]
     },
     "execution_count": 8,
     "metadata": {},
     "output_type": "execute_result"
    }
   ],
   "source": [
    "features = ['DAO']\n",
    "X = data[features] # dataframe (pandas)\n",
    "X.head(3)"
   ]
  },
  {
   "cell_type": "markdown",
   "id": "450e1e1a-8bdb-4e3a-81d9-e5aa2e94e4ab",
   "metadata": {},
   "source": [
    "The targets **y** correspond to the column `tissue_status` containing the types of each sample. It can be implemented as a *list* in Python or a *numpy.array* or a *pandas.Series*. We will use the last option."
   ]
  },
  {
   "cell_type": "code",
   "execution_count": 9,
   "id": "39bbf48f-515d-4f65-8b49-56a8c9c59841",
   "metadata": {},
   "outputs": [
    {
     "name": "stdout",
     "output_type": "stream",
     "text": [
      "id_sample\n",
      "EPSM-COLON-0001     normal\n",
      "EPSM-COLON-0002     normal\n",
      "EPSM-COLON-0003     normal\n",
      "EPSM-COLON-0004     normal\n",
      "EPSM-COLON-0005     normal\n",
      "                    ...   \n",
      "EPSM-COLON-0800    tumoral\n",
      "EPSM-COLON-0801    tumoral\n",
      "EPSM-COLON-0802    tumoral\n",
      "EPSM-COLON-0803    tumoral\n",
      "EPSM-COLON-0804    tumoral\n",
      "Name: tissue_status, Length: 804, dtype: object\n"
     ]
    }
   ],
   "source": [
    "y = data['tissue_status'] # series (pandas)\n",
    "print(y)"
   ]
  },
  {
   "cell_type": "markdown",
   "id": "92297d53-216f-44d5-8a5f-d6b994053470",
   "metadata": {},
   "source": [
    "## 4. Create training and test datasets"
   ]
  },
  {
   "cell_type": "markdown",
   "id": "02c358f7-34d6-48b1-b674-d531a4f7662a",
   "metadata": {},
   "source": [
    "In a machine learning approach, it is mandatory to split the initial dataset **X** into two datatsets: one dataset **X_train** will be used to train the model and the other **X_test** to test its efficiency. The samples for these datasets will be selected randomly."
   ]
  },
  {
   "cell_type": "markdown",
   "id": "30a946ef-e11f-4ded-9138-57edcd6d9834",
   "metadata": {},
   "source": [
    "To create the datasets **X_train** and **X_test**, we will use the framework `scikit-learn` which contains a dedicated tool `train_test_split`."
   ]
  },
  {
   "cell_type": "code",
   "execution_count": 10,
   "id": "f22caf53-4053-4c80-afcb-4b746a969d84",
   "metadata": {},
   "outputs": [],
   "source": [
    "from sklearn.model_selection import train_test_split"
   ]
  },
  {
   "cell_type": "markdown",
   "id": "9dfafe2e-dc8a-4a8f-a6bb-3830d378330d",
   "metadata": {},
   "source": [
    "Let's use 2/3 of samples from the original dataset **X** as a training set **X_train**, and another 1/3 of samples as a test set **X_test**."
   ]
  },
  {
   "cell_type": "markdown",
   "id": "906b24ef-8170-432e-9b7d-49cd49b1bdbd",
   "metadata": {},
   "source": [
    "<img src=\"train_test_split.png\" alt=\"Splitting original dataset in training and test\" width=\"400\" aling=\"center\">"
   ]
  },
  {
   "cell_type": "code",
   "execution_count": 11,
   "id": "88abe436-3cfd-4d7e-97a7-c7df9bb5808b",
   "metadata": {},
   "outputs": [
    {
     "name": "stdout",
     "output_type": "stream",
     "text": [
      "Train dataset: (536, 1) Test dataset: (268, 1)\n"
     ]
    }
   ],
   "source": [
    "X_train, X_test, y_train, y_test = train_test_split(X, y, test_size=1/3, random_state=42, stratify=y)\n",
    "print('Train dataset:', X_train.shape, 'Test dataset:', X_test.shape)"
   ]
  },
  {
   "cell_type": "markdown",
   "id": "1e74f44e-777e-4725-b95f-fb1d65db492c",
   "metadata": {},
   "source": [
    "We automatically generated **X_train** and **X_test** datasets with their corresponding targets **y_train** and **y_test**. "
   ]
  },
  {
   "cell_type": "markdown",
   "id": "1e122899-ab98-4f57-9bac-c9b1c1c064dd",
   "metadata": {},
   "source": [
    "The option `random_state` in `train_test_split` initializes a random generator. The option `stratify` indicates that the proportions of tumour and normal samples in both **X_train** and **X_test** datasets should be the same as in the initial dataset **X** (50/50 in our case). "
   ]
  },
  {
   "cell_type": "markdown",
   "id": "d565818b-eb74-4e1c-9b99-7224de7c82db",
   "metadata": {},
   "source": [
    "Now, if we display the samples included in the training dataset **X_train**, we can see that the initial samples have been shuffled and randomly selected. The order of samples from the original dataset **X** is not conserved."
   ]
  },
  {
   "cell_type": "code",
   "execution_count": 12,
   "id": "b0680b00-3d6a-4578-98d3-85e1b71025d0",
   "metadata": {},
   "outputs": [
    {
     "data": {
      "text/html": [
       "<div>\n",
       "<style scoped>\n",
       "    .dataframe tbody tr th:only-of-type {\n",
       "        vertical-align: middle;\n",
       "    }\n",
       "\n",
       "    .dataframe tbody tr th {\n",
       "        vertical-align: top;\n",
       "    }\n",
       "\n",
       "    .dataframe thead th {\n",
       "        text-align: right;\n",
       "    }\n",
       "</style>\n",
       "<table border=\"1\" class=\"dataframe\">\n",
       "  <thead>\n",
       "    <tr style=\"text-align: right;\">\n",
       "      <th></th>\n",
       "      <th>DAO</th>\n",
       "    </tr>\n",
       "    <tr>\n",
       "      <th>id_sample</th>\n",
       "      <th></th>\n",
       "    </tr>\n",
       "  </thead>\n",
       "  <tbody>\n",
       "    <tr>\n",
       "      <th>EPSM-COLON-0782</th>\n",
       "      <td>5.458151</td>\n",
       "    </tr>\n",
       "    <tr>\n",
       "      <th>EPSM-COLON-0754</th>\n",
       "      <td>6.173560</td>\n",
       "    </tr>\n",
       "    <tr>\n",
       "      <th>EPSM-COLON-0577</th>\n",
       "      <td>6.870016</td>\n",
       "    </tr>\n",
       "  </tbody>\n",
       "</table>\n",
       "</div>"
      ],
      "text/plain": [
       "                      DAO\n",
       "id_sample                \n",
       "EPSM-COLON-0782  5.458151\n",
       "EPSM-COLON-0754  6.173560\n",
       "EPSM-COLON-0577  6.870016"
      ]
     },
     "execution_count": 12,
     "metadata": {},
     "output_type": "execute_result"
    }
   ],
   "source": [
    "X_train.head(3)"
   ]
  },
  {
   "cell_type": "markdown",
   "id": "fe556e4f-ffb2-49ec-b2fc-8cb5045ec9a3",
   "metadata": {},
   "source": [
    "Same for **X_test**."
   ]
  },
  {
   "cell_type": "code",
   "execution_count": 13,
   "id": "870b28d2-7e4f-45c5-bb55-1d41138a1df3",
   "metadata": {},
   "outputs": [
    {
     "data": {
      "text/html": [
       "<div>\n",
       "<style scoped>\n",
       "    .dataframe tbody tr th:only-of-type {\n",
       "        vertical-align: middle;\n",
       "    }\n",
       "\n",
       "    .dataframe tbody tr th {\n",
       "        vertical-align: top;\n",
       "    }\n",
       "\n",
       "    .dataframe thead th {\n",
       "        text-align: right;\n",
       "    }\n",
       "</style>\n",
       "<table border=\"1\" class=\"dataframe\">\n",
       "  <thead>\n",
       "    <tr style=\"text-align: right;\">\n",
       "      <th></th>\n",
       "      <th>DAO</th>\n",
       "    </tr>\n",
       "    <tr>\n",
       "      <th>id_sample</th>\n",
       "      <th></th>\n",
       "    </tr>\n",
       "  </thead>\n",
       "  <tbody>\n",
       "    <tr>\n",
       "      <th>EPSM-COLON-0691</th>\n",
       "      <td>6.543940</td>\n",
       "    </tr>\n",
       "    <tr>\n",
       "      <th>EPSM-COLON-0435</th>\n",
       "      <td>7.598907</td>\n",
       "    </tr>\n",
       "    <tr>\n",
       "      <th>EPSM-COLON-0508</th>\n",
       "      <td>4.271774</td>\n",
       "    </tr>\n",
       "  </tbody>\n",
       "</table>\n",
       "</div>"
      ],
      "text/plain": [
       "                      DAO\n",
       "id_sample                \n",
       "EPSM-COLON-0691  6.543940\n",
       "EPSM-COLON-0435  7.598907\n",
       "EPSM-COLON-0508  4.271774"
      ]
     },
     "execution_count": 13,
     "metadata": {},
     "output_type": "execute_result"
    }
   ],
   "source": [
    "X_test.head(3)"
   ]
  },
  {
   "cell_type": "markdown",
   "id": "a85f2d8f-aa8a-4414-9132-d457c3fdf629",
   "metadata": {},
   "source": [
    "## 5. Training a Decision Tree"
   ]
  },
  {
   "cell_type": "markdown",
   "id": "72f7aa06-fc49-4310-ac27-c61c51e33a6d",
   "metadata": {},
   "source": [
    "A decision tree during the training step search for an optimal threshold that allows to separate normal and tumour samples. The `max_depth` option indicates the maximum depth of the tree. The `fit` method performs the training of the model. The training of the model is done only on the training dataset **X_train**."
   ]
  },
  {
   "cell_type": "code",
   "execution_count": 14,
   "id": "aae19981-14a0-4dfb-8b5a-771d1026fb89",
   "metadata": {},
   "outputs": [
    {
     "data": {
      "text/plain": [
       "DecisionTreeClassifier(criterion='entropy', max_depth=1, random_state=42)"
      ]
     },
     "execution_count": 14,
     "metadata": {},
     "output_type": "execute_result"
    }
   ],
   "source": [
    "from sklearn.tree import DecisionTreeClassifier\n",
    "classifier = DecisionTreeClassifier(max_depth=1, random_state=42, criterion='entropy')\n",
    "classifier.fit(X_train, y_train)"
   ]
  },
  {
   "cell_type": "markdown",
   "id": "744b4ea7-4c94-4350-88eb-21bd8563502a",
   "metadata": {},
   "source": [
    "It could be interesting to display the optimal threshold found by the algorithm during the learning process. We can do it with the `export_text` function."
   ]
  },
  {
   "cell_type": "code",
   "execution_count": 15,
   "id": "936b318a-a4cc-416e-b0fd-4defa7b68bdc",
   "metadata": {},
   "outputs": [
    {
     "name": "stdout",
     "output_type": "stream",
     "text": [
      "|--- DAO <= 7.54\n",
      "|   |--- class: tumoral\n",
      "|--- DAO >  7.54\n",
      "|   |--- class: normal\n",
      "\n"
     ]
    }
   ],
   "source": [
    "from sklearn.tree import export_text, plot_tree\n",
    "decision_tree_text = export_text(classifier, feature_names=list(X_train.columns))\n",
    "print(decision_tree_text)"
   ]
  },
  {
   "cell_type": "markdown",
   "id": "4adaaaa9-5a45-42ab-b0d3-0ac41644c5f6",
   "metadata": {},
   "source": [
    "We can also visualize the obtained decision tree when it is not too complex. The `plot_tree` function generates the graph."
   ]
  },
  {
   "cell_type": "code",
   "execution_count": 16,
   "id": "4907e04a-7421-4a7b-affc-3937c137a521",
   "metadata": {},
   "outputs": [
    {
     "data": {
      "text/plain": [
       "[Text(167.4, 163.07999999999998, 'DAO <= 7.54\\nentropy = 1.0\\nsamples = 536\\nvalue = [268, 268]\\nclass = normal'),\n",
       " Text(83.7, 54.360000000000014, 'entropy = 0.25\\nsamples = 265\\nvalue = [11, 254]\\nclass = tumoral'),\n",
       " Text(251.10000000000002, 54.360000000000014, 'entropy = 0.29\\nsamples = 271\\nvalue = [257, 14]\\nclass = normal')]"
      ]
     },
     "execution_count": 16,
     "metadata": {},
     "output_type": "execute_result"
    },
    {
     "data": {
      "image/png": "[encoded data removed]",
      "text/plain": [
       "<Figure size 432x288 with 1 Axes>"
      ]
     },
     "metadata": {
      "needs_background": "light"
     },
     "output_type": "display_data"
    }
   ],
   "source": [
    "plot_tree(classifier, feature_names=list(X_train.columns),  class_names=y.unique(), precision=2, filled=True)"
   ]
  },
  {
   "cell_type": "markdown",
   "id": "7c7083ec-59ae-4e3b-a6d6-25415a0a2742",
   "metadata": {},
   "source": [
    "## 6. Predict the diagnosis of new patients (test dataset) "
   ]
  },
  {
   "cell_type": "markdown",
   "id": "9b850083-79c0-4364-b19e-1f1c3f39b53e",
   "metadata": {},
   "source": [
    "Once the model has been trained, it can be used on new samples to predict their status (normal or tumour). The performance of the model is usually estimated by a metric. In our example, we will use the *accuracy* metric."
   ]
  },
  {
   "cell_type": "markdown",
   "id": "ce26442f-7f86-4eb2-9771-309015741eeb",
   "metadata": {},
   "source": [
    "**Accuracy** = Number of correct predictions / Total number of predictions"
   ]
  },
  {
   "cell_type": "markdown",
   "id": "5684151f-2edd-4e01-b704-a24a1babbd84",
   "metadata": {},
   "source": [
    "The prediction can be done with the `predict` method. In `scikit-learn`,  all the supervised machine learning models have at leat two standard methods: `fit` to train the model (on train dataset) and `predict` to perform a prediction (on test dataset)."
   ]
  },
  {
   "cell_type": "code",
   "execution_count": 17,
   "id": "ef0f0b3c-7c28-47be-816d-2db5e4b4caee",
   "metadata": {},
   "outputs": [],
   "source": [
    "y_pred_train = classifier.predict(X_train)\n",
    "y_pred_test = classifier.predict(X_test)"
   ]
  },
  {
   "cell_type": "markdown",
   "id": "1a111707-9600-4b1a-90b3-37b82c0c0a86",
   "metadata": {},
   "source": [
    "The accuracy calculation is available in `metrics` module of `scikit-learn`."
   ]
  },
  {
   "cell_type": "code",
   "execution_count": 18,
   "id": "b37a02a0-deb8-4287-8c06-e893cc674b37",
   "metadata": {},
   "outputs": [
    {
     "name": "stdout",
     "output_type": "stream",
     "text": [
      "Train accuracy: 0.95 Test accuracy: 0.93\n"
     ]
    }
   ],
   "source": [
    "from sklearn import metrics\n",
    "accuracy_train = metrics.accuracy_score(y_train, y_pred_train)\n",
    "accuracy_test = metrics.accuracy_score(y_test, y_pred_test)\n",
    "print('Train accuracy:', '{:.2f}'.format(accuracy_train), 'Test accuracy:', '{:.2f}'.format(accuracy_test))"
   ]
  },
  {
   "cell_type": "markdown",
   "id": "945ed088-3d5e-4a90-889b-b89db90735c1",
   "metadata": {},
   "source": [
    "To **evaluate a model**, we essentially take into account the **metric calculated on the test dataset**. Sometimes, we can also compare it with the metric obtained on the training dataset to know if the model tends to overfit."
   ]
  },
  {
   "cell_type": "markdown",
   "id": "e7343990-75ed-47b1-a03f-8f483dc27afd",
   "metadata": {},
   "source": [
    "## 7. Create a function that performs all steps"
   ]
  },
  {
   "cell_type": "markdown",
   "id": "d32837f7-b4a8-40bb-a978-2e997ff06f36",
   "metadata": {},
   "source": [
    "Subsequently, in the following exercises we will often perform the training, prediction and metric calculation steps for different machine learning models. It will be more convenient for us to create a special `calculate_accuracy` function that performs all these steps automatically."
   ]
  },
  {
   "cell_type": "code",
   "execution_count": 19,
   "id": "d070bbad-467f-4c48-9788-16dd27480e57",
   "metadata": {},
   "outputs": [],
   "source": [
    "def calculate_accuracy(classifier, X_train, X_test, y_train, y_test):\n",
    "    classifier.fit(X_train, y_train)\n",
    "    y_pred_train = classifier.predict(X_train)\n",
    "    y_pred_test = classifier.predict(X_test)\n",
    "    accuracy_train = metrics.accuracy_score(y_train, y_pred_train)\n",
    "    accuracy_test = metrics.accuracy_score(y_test, y_pred_test)\n",
    "    print('Train accuracy:', '{:.2f}'.format(accuracy_train), 'Test accuracy:', '{:.2f}'.format(accuracy_test))\n",
    "    return accuracy_train, accuracy_test, classifier"
   ]
  },
  {
   "cell_type": "markdown",
   "id": "1d5742d1-a805-4fba-a36f-4e063909300b",
   "metadata": {},
   "source": [
    "Example of use: "
   ]
  },
  {
   "cell_type": "code",
   "execution_count": 20,
   "id": "64b0cc9a-c661-48e3-8bd6-9f74a1a4737a",
   "metadata": {},
   "outputs": [
    {
     "name": "stdout",
     "output_type": "stream",
     "text": [
      "Train accuracy: 0.95 Test accuracy: 0.93\n"
     ]
    }
   ],
   "source": [
    "accuracy_train, accuracy_test, trained_classifier = calculate_accuracy(classifier, X_train, X_test, y_train, y_test)"
   ]
  },
  {
   "cell_type": "markdown",
   "id": "a22c4c29-b41f-410e-88ac-dca471f2a46e",
   "metadata": {},
   "source": [
    "*Disclaimer! The function* `calculate_accuracy` *is proposed here to simplify the code of the lesson, for teaching purposes only. In this example, it is convenient for us to add all the steps in the same function. Nevertheless, if you need to produce a professional code for production purposes, please take into account good practices of software engineering. Usually, the good practices recommend to separate different actions in different atomic functions and don't mix the calculation and the presentation of data/results. A concrete approach may depend on the programming paradigm.*"
   ]
  },
  {
   "cell_type": "markdown",
   "id": "b10242b4-9303-4d89-bc7e-f6ab6959328b",
   "metadata": {},
   "source": [
    "**Congratulations, you successfully completed the task 1! Please, proceed to the task 2.**"
   ]
  }
 ],
 "metadata": {
  "kernelspec": {
   "display_name": "Python 3 (ipykernel)",
   "language": "python",
   "name": "python3"
  },
  "language_info": {
   "codemirror_mode": {
    "name": "ipython",
    "version": 3
   },
   "file_extension": ".py",
   "mimetype": "text/x-python",
   "name": "python",
   "nbconvert_exporter": "python",
   "pygments_lexer": "ipython3",
   "version": "3.9.7"
  },
  "toc-showtags": true
 },
 "nbformat": 4,
 "nbformat_minor": 5
}
