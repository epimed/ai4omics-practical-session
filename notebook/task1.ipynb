{
 "cells": [
  {
   "cell_type": "markdown",
   "id": "1d225940-f17a-4526-a58a-5b6c929decb7",
   "metadata": {},
   "source": [
    "# AI4Omics Practical Session"
   ]
  },
  {
   "cell_type": "markdown",
   "id": "052193a9-39a9-4c1d-bc63-c2287ec6d73d",
   "metadata": {},
   "source": [
    "## Task 1 -  Introduction to classification models in machine learning"
   ]
  },
  {
   "cell_type": "markdown",
   "id": "fad1e3bf-65b9-4886-bf01-02fd8fee1593",
   "metadata": {},
   "source": [
    "## 1. Import data"
   ]
  },
  {
   "cell_type": "markdown",
   "id": "e4a087cc-6fff-496f-8c78-5c1b3c53fd38",
   "metadata": {},
   "source": [
    "Import `pandas` package which allows us to perform data analysis and manipulation of dataframes in Python."
   ]
  },
  {
   "cell_type": "code",
   "execution_count": null,
   "id": "d16c85de-2498-4275-b54a-a02d3ad774a0",
   "metadata": {},
   "outputs": [],
   "source": [
    "import pandas as pd"
   ]
  },
  {
   "cell_type": "markdown",
   "id": "12b3d927-271a-4c5c-8c92-6dad611a88c3",
   "metadata": {},
   "source": [
    "The data are available in the file `colon_cancer.csv`. Data import is done with the pandas `read_csv` command. The `shape` attribute contains the dimensions of the dataframe."
   ]
  },
  {
   "cell_type": "code",
   "execution_count": null,
   "id": "80400c2f-9523-4a31-a2cf-07ebbb62f95b",
   "metadata": {},
   "outputs": [],
   "source": [
    "data = pd.read_csv('../data/colon_cancer.csv', sep=';', index_col='id_sample')\n",
    "print('data', data.shape)"
   ]
  },
  {
   "cell_type": "markdown",
   "id": "e8811c68-8ff8-418a-89fb-5bdc2426a10c",
   "metadata": {},
   "source": [
    "The `head()` method displays by default the first 5 lines of the dataframe. If necessary, we can indicate the number of lines to display, for example `head(3)` for 3 lines."
   ]
  },
  {
   "cell_type": "code",
   "execution_count": null,
   "id": "ecb2184a-8067-472a-ba8a-7f4e62a8b207",
   "metadata": {},
   "outputs": [],
   "source": [
    "data.head()"
   ]
  },
  {
   "cell_type": "markdown",
   "id": "7f8856b1-1f4f-4e80-badd-8ca22b522bad",
   "metadata": {},
   "source": [
    "The data contain the expression levels of **60 genes** in **804 samples** of colon tissue. The last column `tissue_status` indicates if the sample is normal or tumoral."
   ]
  },
  {
   "cell_type": "markdown",
   "id": "898b7a75-817c-41c8-92c1-07e8aa3f24dd",
   "metadata": {},
   "source": [
    "The data types of each column can be displayed with `dtypes`."
   ]
  },
  {
   "cell_type": "code",
   "execution_count": null,
   "id": "3f6acc28-3ac9-4949-8b5f-bf5f691c5258",
   "metadata": {},
   "outputs": [],
   "source": [
    "data.dtypes"
   ]
  },
  {
   "cell_type": "markdown",
   "id": "fecd87e8-851e-4eda-8dae-e74895dd88e8",
   "metadata": {},
   "source": [
    "We can see that the data are mostly *float values* except for `tissue_status` which is actually a *string*, considered as an *object* by pandas."
   ]
  },
  {
   "cell_type": "markdown",
   "id": "2bec1d46-0726-4af5-b8bb-b891efaf57a2",
   "metadata": {},
   "source": [
    "The `describe` method displays descriptive statistics of numerical data only. The `tissue_status` column will not be included."
   ]
  },
  {
   "cell_type": "code",
   "execution_count": null,
   "id": "8152e999-26c7-4cb5-aa6b-5b039bdf5740",
   "metadata": {},
   "outputs": [],
   "source": [
    "data.describe()"
   ]
  },
  {
   "cell_type": "markdown",
   "id": "3889c0ab-7dc5-4b99-bc9c-4250e56ec84f",
   "metadata": {},
   "source": [
    "## 2. Display distributions of expression levels"
   ]
  },
  {
   "cell_type": "markdown",
   "id": "6e827fc5-a947-4c8f-9e6a-0c66b54d1ee2",
   "metadata": {},
   "source": [
    "To create graphical plots we will use the graphical packages of Python `matplotlib` and `seaborn`."
   ]
  },
  {
   "cell_type": "code",
   "execution_count": null,
   "id": "a7a56871-bc14-4135-8484-4d749def1685",
   "metadata": {},
   "outputs": [],
   "source": [
    "%matplotlib inline\n",
    "import seaborn as sns\n",
    "import matplotlib.pyplot as plt"
   ]
  },
  {
   "cell_type": "markdown",
   "id": "99c80b70-0159-4a01-9a9d-10180d1fed11",
   "metadata": {},
   "source": [
    "The `displot` command of the `seaborn` package enables us to display a distribution of values (as a kernel density estimator *kde* or as a histogram *hist*). Let's select one gene, for example *DAO*, and plot the distribution of expression levels of this gene across all samples. "
   ]
  },
  {
   "cell_type": "code",
   "execution_count": null,
   "id": "c05c2997-b2d1-4194-bd3c-aaa1916dc70a",
   "metadata": {},
   "outputs": [],
   "source": [
    "selected_gene = 'DAO'\n",
    "sns.displot(data=data, x=selected_gene, hue='tissue_status', kind='kde')"
   ]
  },
  {
   "cell_type": "markdown",
   "id": "0e25171b-948d-427d-95fa-8f8a08a365c8",
   "metadata": {},
   "source": [
    "The gene *DAO* is highly expressed in normal samples while its expression in tumour samples is much lower."
   ]
  },
  {
   "cell_type": "markdown",
   "id": "39cf8435-e9d2-45c8-b8fb-9e8e488850f8",
   "metadata": {},
   "source": [
    "We can intuitively feel that if we introduce a certain threshold for *DAO* expression, for example 7.5, we will be able to predict for any new sample if it is normal or tumoral. For this, we just need to measure the level of *DAO* expression in the new sample. If it is below 7.5 than the sample is tumoral, otherwise it is normal.   "
   ]
  },
  {
   "cell_type": "markdown",
   "id": "f8043921-7ddd-4278-9df0-2089727668b3",
   "metadata": {},
   "source": [
    "## 3. Create features and targets for machine learning "
   ]
  },
  {
   "cell_type": "markdown",
   "id": "b3edbea5-8a8c-462e-acb0-42aaffe5ed8c",
   "metadata": {},
   "source": [
    "For machine learning purposes in Python, we usually prepare data in two separate objects:\n",
    "- The first object is a matrix (or a dataframe) of *data*, typically named  **X**, which contains the measurements for all available variables (features). In our case, the features are the 60 genes. The dataframe **X** contains the expression levels of these genes (features).\n",
    "- The second object is a list of *targets* that we aim to predict, named **y**. In our example, it corresponds to the column `tissue_status` containing the types of each sample, normal tissue or cancer."
   ]
  },
  {
   "cell_type": "markdown",
   "id": "fa5c26b9-5511-482c-acdb-0b81dd8f59b4",
   "metadata": {},
   "source": [
    "Let's consider a simple case when we have only one gene *DAO*. What would be the data **X** and the targets **y**?  "
   ]
  },
  {
   "cell_type": "markdown",
   "id": "2f94ea85-dc4c-4f5e-ac30-699920af5d20",
   "metadata": {},
   "source": [
    "In this case, we have only one feature, the gene *DAO*. The dataframe **X** will therefore contain the expression levels of this gene in all the samples."
   ]
  },
  {
   "cell_type": "code",
   "execution_count": null,
   "id": "75427980-6e43-44bc-b9fd-04e364f954ba",
   "metadata": {},
   "outputs": [],
   "source": [
    "features = ['DAO']\n",
    "X = data[features] # dataframe (pandas)\n",
    "X.head(3)"
   ]
  },
  {
   "cell_type": "markdown",
   "id": "450e1e1a-8bdb-4e3a-81d9-e5aa2e94e4ab",
   "metadata": {},
   "source": [
    "The targets **y** correspond to the column `tissue_status` containing the types of each sample. It can be implemented as a *list* in Python or a *numpy.array* or a *pandas.Series*. We will use the last option."
   ]
  },
  {
   "cell_type": "code",
   "execution_count": null,
   "id": "39bbf48f-515d-4f65-8b49-56a8c9c59841",
   "metadata": {},
   "outputs": [],
   "source": [
    "y = data['tissue_status'] # series (pandas)\n",
    "print(y)"
   ]
  },
  {
   "cell_type": "markdown",
   "id": "92297d53-216f-44d5-8a5f-d6b994053470",
   "metadata": {},
   "source": [
    "## 4. Create training and test datasets"
   ]
  },
  {
   "cell_type": "markdown",
   "id": "02c358f7-34d6-48b1-b674-d531a4f7662a",
   "metadata": {},
   "source": [
    "In a machine learning approach, it is mandatory to split the initial dataset **X** into two datatsets: one dataset **X_train** will be used to train the model and the other **X_test** to test its efficiency. The samples for these datasets will be selected randomly."
   ]
  },
  {
   "cell_type": "markdown",
   "id": "30a946ef-e11f-4ded-9138-57edcd6d9834",
   "metadata": {},
   "source": [
    "To create the datasets **X_train** and **X_test**, we will use the framework `scikit-learn` which contains a dedicated tool `train_test_split`."
   ]
  },
  {
   "cell_type": "code",
   "execution_count": null,
   "id": "f22caf53-4053-4c80-afcb-4b746a969d84",
   "metadata": {},
   "outputs": [],
   "source": [
    "from sklearn.model_selection import train_test_split"
   ]
  },
  {
   "cell_type": "markdown",
   "id": "9dfafe2e-dc8a-4a8f-a6bb-3830d378330d",
   "metadata": {},
   "source": [
    "Let's use 2/3 of samples from the original dataset **X** as a training set **X_train**, and another 1/3 of samples as a test set **X_test**."
   ]
  },
  {
   "cell_type": "markdown",
   "id": "906b24ef-8170-432e-9b7d-49cd49b1bdbd",
   "metadata": {},
   "source": [
    "<img src=\"train_test_split.png\" alt=\"Splitting original dataset in training and test\" width=\"400\" aling=\"center\">"
   ]
  },
  {
   "cell_type": "code",
   "execution_count": null,
   "id": "88abe436-3cfd-4d7e-97a7-c7df9bb5808b",
   "metadata": {},
   "outputs": [],
   "source": [
    "X_train, X_test, y_train, y_test = train_test_split(X, y, test_size=1/3, random_state=42, stratify=y)\n",
    "print('Train dataset:', X_train.shape, 'Test dataset:', X_test.shape)"
   ]
  },
  {
   "cell_type": "markdown",
   "id": "1e74f44e-777e-4725-b95f-fb1d65db492c",
   "metadata": {},
   "source": [
    "We automatically generated **X_train** and **X_test** datasets with their corresponding targets **y_train** and **y_test**. "
   ]
  },
  {
   "cell_type": "markdown",
   "id": "1e122899-ab98-4f57-9bac-c9b1c1c064dd",
   "metadata": {},
   "source": [
    "The option `random_state` in `train_test_split` initializes a random generator. The option `stratify` indicates that the proportions of tumour and normal samples in both **X_train** and **X_test** datasets should be the same as in the initial dataset **X** (50/50 in our case). "
   ]
  },
  {
   "cell_type": "markdown",
   "id": "d565818b-eb74-4e1c-9b99-7224de7c82db",
   "metadata": {},
   "source": [
    "Now, if we display the samples included in the training dataset **X_train**, we can see that the initial samples have been shuffled and randomly selected. The order of samples from the original dataset **X** is not conserved."
   ]
  },
  {
   "cell_type": "code",
   "execution_count": null,
   "id": "b0680b00-3d6a-4578-98d3-85e1b71025d0",
   "metadata": {},
   "outputs": [],
   "source": [
    "X_train.head(3)"
   ]
  },
  {
   "cell_type": "markdown",
   "id": "fe556e4f-ffb2-49ec-b2fc-8cb5045ec9a3",
   "metadata": {},
   "source": [
    "Same for **X_test**."
   ]
  },
  {
   "cell_type": "code",
   "execution_count": null,
   "id": "870b28d2-7e4f-45c5-bb55-1d41138a1df3",
   "metadata": {},
   "outputs": [],
   "source": [
    "X_test.head(3)"
   ]
  },
  {
   "cell_type": "markdown",
   "id": "a85f2d8f-aa8a-4414-9132-d457c3fdf629",
   "metadata": {},
   "source": [
    "## 5. Training a Decision Tree"
   ]
  },
  {
   "cell_type": "markdown",
   "id": "72f7aa06-fc49-4310-ac27-c61c51e33a6d",
   "metadata": {},
   "source": [
    "A decision tree during the training step search for an optimal threshold that allows to separate normal and tumour samples. The `max_depth` option indicates the maximum depth of the tree. The `fit` method performs the training of the model. The training of the model is done only on the training dataset **X_train**."
   ]
  },
  {
   "cell_type": "code",
   "execution_count": null,
   "id": "aae19981-14a0-4dfb-8b5a-771d1026fb89",
   "metadata": {},
   "outputs": [],
   "source": [
    "from sklearn.tree import DecisionTreeClassifier\n",
    "classifier = DecisionTreeClassifier(max_depth=1, random_state=42, criterion='entropy')\n",
    "classifier.fit(X_train, y_train)"
   ]
  },
  {
   "cell_type": "markdown",
   "id": "744b4ea7-4c94-4350-88eb-21bd8563502a",
   "metadata": {},
   "source": [
    "It could be interesting to display the optimal threshold found by the algorithm during the learning process. We can do it with the `export_text` function."
   ]
  },
  {
   "cell_type": "code",
   "execution_count": null,
   "id": "936b318a-a4cc-416e-b0fd-4defa7b68bdc",
   "metadata": {},
   "outputs": [],
   "source": [
    "from sklearn.tree import export_text, plot_tree\n",
    "decision_tree_text = export_text(classifier, feature_names=list(X_train.columns))\n",
    "print(decision_tree_text)"
   ]
  },
  {
   "cell_type": "markdown",
   "id": "4adaaaa9-5a45-42ab-b0d3-0ac41644c5f6",
   "metadata": {},
   "source": [
    "We can also visualize the obtained decision tree when it is not too complex. The `plot_tree` function generates the graph."
   ]
  },
  {
   "cell_type": "code",
   "execution_count": null,
   "id": "4907e04a-7421-4a7b-affc-3937c137a521",
   "metadata": {},
   "outputs": [],
   "source": [
    "plot_tree(classifier, feature_names=list(X_train.columns),  class_names=y.unique(), precision=2, filled=True)"
   ]
  },
  {
   "cell_type": "markdown",
   "id": "7c7083ec-59ae-4e3b-a6d6-25415a0a2742",
   "metadata": {},
   "source": [
    "## 6. Predict the diagnosis of new patients (test dataset) "
   ]
  },
  {
   "cell_type": "markdown",
   "id": "9b850083-79c0-4364-b19e-1f1c3f39b53e",
   "metadata": {},
   "source": [
    "Once the model has been trained, it can be used on new samples to predict their status (normal or tumour). The performance of the model is usually estimated by a metric. In our example, we will use the *accuracy* metric."
   ]
  },
  {
   "cell_type": "markdown",
   "id": "ce26442f-7f86-4eb2-9771-309015741eeb",
   "metadata": {},
   "source": [
    "**Accuracy** = Number of correct predictions / Total number of predictions"
   ]
  },
  {
   "cell_type": "markdown",
   "id": "5684151f-2edd-4e01-b704-a24a1babbd84",
   "metadata": {},
   "source": [
    "The prediction can be done with the `predict` method. In `scikit-learn`,  all the supervised machine learning models have at leat two standard methods: `fit` to train the model (on train dataset) and `predict` to perform a prediction (on test dataset)."
   ]
  },
  {
   "cell_type": "code",
   "execution_count": null,
   "id": "ef0f0b3c-7c28-47be-816d-2db5e4b4caee",
   "metadata": {},
   "outputs": [],
   "source": [
    "y_pred_train = classifier.predict(X_train)\n",
    "y_pred_test = classifier.predict(X_test)"
   ]
  },
  {
   "cell_type": "markdown",
   "id": "1a111707-9600-4b1a-90b3-37b82c0c0a86",
   "metadata": {},
   "source": [
    "The accuracy calculation is available in `metrics` module of `scikit-learn`."
   ]
  },
  {
   "cell_type": "code",
   "execution_count": null,
   "id": "b37a02a0-deb8-4287-8c06-e893cc674b37",
   "metadata": {},
   "outputs": [],
   "source": [
    "from sklearn import metrics\n",
    "accuracy_train = metrics.accuracy_score(y_train, y_pred_train)\n",
    "accuracy_test = metrics.accuracy_score(y_test, y_pred_test)\n",
    "print('Train accuracy:', '{:.2f}'.format(accuracy_train), 'Test accuracy:', '{:.2f}'.format(accuracy_test))"
   ]
  },
  {
   "cell_type": "markdown",
   "id": "945ed088-3d5e-4a90-889b-b89db90735c1",
   "metadata": {},
   "source": [
    "To **evaluate a model**, we essentially take into account the **metric calculated on the test dataset**. Sometimes, we can also compare it with the metric obtained on the training dataset to know if the model tends to overfit."
   ]
  },
  {
   "cell_type": "markdown",
   "id": "e7343990-75ed-47b1-a03f-8f483dc27afd",
   "metadata": {},
   "source": [
    "## 7. Create a function that performs all steps"
   ]
  },
  {
   "cell_type": "markdown",
   "id": "d32837f7-b4a8-40bb-a978-2e997ff06f36",
   "metadata": {},
   "source": [
    "Subsequently, in the following exercises we will often perform the training, prediction and metric calculation steps for different machine learning models. It will be more convenient for us to create a special `calculate_accuracy` function that performs all these steps automatically."
   ]
  },
  {
   "cell_type": "code",
   "execution_count": null,
   "id": "d070bbad-467f-4c48-9788-16dd27480e57",
   "metadata": {},
   "outputs": [],
   "source": [
    "def calculate_accuracy(classifier, X_train, X_test, y_train, y_test):\n",
    "    classifier.fit(X_train, y_train)\n",
    "    y_pred_train = classifier.predict(X_train)\n",
    "    y_pred_test = classifier.predict(X_test)\n",
    "    accuracy_train = metrics.accuracy_score(y_train, y_pred_train)\n",
    "    accuracy_test = metrics.accuracy_score(y_test, y_pred_test)\n",
    "    print('Train accuracy:', '{:.2f}'.format(accuracy_train), 'Test accuracy:', '{:.2f}'.format(accuracy_test))\n",
    "    return accuracy_train, accuracy_test, classifier"
   ]
  },
  {
   "cell_type": "markdown",
   "id": "1d5742d1-a805-4fba-a36f-4e063909300b",
   "metadata": {},
   "source": [
    "Example of use: "
   ]
  },
  {
   "cell_type": "code",
   "execution_count": null,
   "id": "64b0cc9a-c661-48e3-8bd6-9f74a1a4737a",
   "metadata": {},
   "outputs": [],
   "source": [
    "accuracy_train, accuracy_test, trained_classifier = calculate_accuracy(classifier, X_train, X_test, y_train, y_test)"
   ]
  },
  {
   "cell_type": "markdown",
   "id": "a22c4c29-b41f-410e-88ac-dca471f2a46e",
   "metadata": {},
   "source": [
    "*Disclaimer! The function* `calculate_accuracy` *is proposed here to simplify the code of the lesson, for teaching purposes only. In this example, it is convenient for us to add all the steps in the same function. Nevertheless, if you need to produce a professional code for production purposes, please take into account good practices of software engineering. Usually, the good practices recommend to separate different actions in different atomic functions and don't mix the calculation and the presentation of data/results. A concrete approach may depend on the programming paradigm.*"
   ]
  },
  {
   "cell_type": "markdown",
   "id": "b10242b4-9303-4d89-bc7e-f6ab6959328b",
   "metadata": {},
   "source": [
    "**Congratulations, you successfully completed the task 1! Please, proceed to the task 2.**"
   ]
  }
 ],
 "metadata": {
  "kernelspec": {
   "display_name": "Python 3 (ipykernel)",
   "language": "python",
   "name": "python3"
  },
  "language_info": {
   "codemirror_mode": {
    "name": "ipython",
    "version": 3
   },
   "file_extension": ".py",
   "mimetype": "text/x-python",
   "name": "python",
   "nbconvert_exporter": "python",
   "pygments_lexer": "ipython3",
   "version": "3.9.7"
  },
  "toc-showtags": true
 },
 "nbformat": 4,
 "nbformat_minor": 5
}
