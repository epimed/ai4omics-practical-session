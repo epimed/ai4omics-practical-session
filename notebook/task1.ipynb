{
 "cells": [
  {
   "cell_type": "markdown",
   "id": "1d225940-f17a-4526-a58a-5b6c929decb7",
   "metadata": {},
   "source": [
    "# Training a machine learning classification model"
   ]
  },
  {
   "cell_type": "markdown",
   "id": "fad1e3bf-65b9-4886-bf01-02fd8fee1593",
   "metadata": {},
   "source": [
    "Coming soon"
   ]
  },
  {
   "cell_type": "code",
   "execution_count": null,
   "id": "aa9479d1-28b4-49c8-8ced-6df410c6e827",
   "metadata": {},
   "outputs": [],
   "source": []
  }
 ],
 "metadata": {
  "kernelspec": {
   "display_name": "Python 3 (ipykernel)",
   "language": "python",
   "name": "python3"
  },
  "language_info": {
   "codemirror_mode": {
    "name": "ipython",
    "version": 3
   },
   "file_extension": ".py",
   "mimetype": "text/x-python",
   "name": "python",
   "nbconvert_exporter": "python",
   "pygments_lexer": "ipython3",
   "version": "3.9.7"
  }
 },
 "nbformat": 4,
 "nbformat_minor": 5
}
